{
 "cells": [
  {
   "cell_type": "markdown",
   "metadata": {},
   "source": [
    "# Spark SQL Lab 1"
   ]
  },
  {
   "cell_type": "code",
   "execution_count": 1,
   "metadata": {},
   "outputs": [
    {
     "name": "stdout",
     "output_type": "stream",
     "text": [
      "Spark found in :  /home/sujee/apps/spark\n",
      "Spark UI running on port 4040\n"
     ]
    }
   ],
   "source": [
    "import findspark\n",
    "findspark.init()  # uses SPARK_HOME\n",
    "print(\"Spark found in : \", findspark.find())\n",
    "\n",
    "import pyspark\n",
    "from pyspark import SparkConf\n",
    "from pyspark.sql import SparkSession\n",
    "\n",
    "# use a unique tmep dir for warehouse dir, so we can run multiple spark sessions in one dir\n",
    "import tempfile\n",
    "tmpdir = tempfile.TemporaryDirectory()\n",
    "\n",
    "config = ( SparkConf()\n",
    "         .setAppName(\"TestApp\")\n",
    "         .setMaster(\"local[*]\")\n",
    "         .set('executor.memory', '2g')\n",
    "         .set('spark.sql.warehouse.dir', tmpdir.name)\n",
    "         .set(\"some_property\", \"some_value\") # another example\n",
    "         )\n",
    "\n",
    "spark = SparkSession.builder.config(conf=config).getOrCreate()\n",
    "print('Spark UI running on port ' + spark.sparkContext.uiWebUrl.split(':')[2])"
   ]
  },
  {
   "cell_type": "markdown",
   "metadata": {},
   "source": [
    "## Read Data Without Schema\n"
   ]
  },
  {
   "cell_type": "code",
   "execution_count": 2,
   "metadata": {},
   "outputs": [
    {
     "name": "stdout",
     "output_type": "stream",
     "text": [
      "+--------------------+--------------------+----+----------------+---------------+-------------+-----------+--------------------+--------------------+---------------+-------------+\n",
      "|                  id|           timestamp| mti|     card_number|amount_customer|merchant_type|merchant_id|    merchant_address|              ref_id|amount_merchant|response_code|\n",
      "+--------------------+--------------------+----+----------------+---------------+-------------+-----------+--------------------+--------------------+---------------+-------------+\n",
      "|59132a14-bdd2-4ab...|2016-08-16 10:22:...|0100|4869275837969573|         105.10|         2788|         63|Sun Shine Liquors...|                null|           null|         null|\n",
      "|90f04967-f739-439...|2016-08-16 10:22:...|0110|4869275837969573|         105.10|         2788|         63|Sun Shine Liquors...|59132a14-bdd2-4ab...|         101.95|           00|\n",
      "|dbdf1aa3-bf7e-465...|2018-05-06 04:19:...|0100|4196274028761630|         706.70|         2723|         63|First Restaurant,...|                null|           null|         null|\n",
      "|96239ab7-1c86-449...|2018-05-06 04:20:...|0110|4196274028761630|         706.70|         2723|         63|First Restaurant,...|dbdf1aa3-bf7e-465...|         685.50|           00|\n",
      "|42ef2838-d291-411...|2015-03-28 14:15:...|0100|4348736739803585|         288.40|         5529|          7|Best Bakery, 643 ...|                null|           null|         null|\n",
      "|615665fc-8852-42b...|2015-03-28 14:15:...|0110|4348736739803585|         288.40|         5529|          7|Best Bakery, 643 ...|42ef2838-d291-411...|         279.75|           00|\n",
      "|e3c320f8-e821-4c3...|2015-06-08 12:09:...|0100|4240286547631442|         867.40|         5691|         58|Awesome Liquors, ...|                null|           null|         null|\n",
      "|0eea772e-f038-489...|2015-06-08 12:09:...|0110|4240286547631442|         867.40|         5691|         58|Awesome Liquors, ...|e3c320f8-e821-4c3...|         841.38|           00|\n",
      "|1876fe75-aed1-4da...|2016-04-16 21:00:...|0100|4910254741612724|         659.80|         2349|          0|First Bakery, 539...|                null|           null|         null|\n",
      "|f6eec88c-1fd9-438...|2016-04-16 21:00:...|0110|4910254741612724|         659.80|         2349|          0|First Bakery, 539...|1876fe75-aed1-4da...|         640.01|           00|\n",
      "|92be356b-339d-4c4...|2015-09-28 02:00:...|0100|4645281095518257|         594.30|         2957|          0|Best Auto, 795 Al...|                null|           null|         null|\n",
      "|14013d92-d87c-419...|2015-09-28 02:00:...|0110|4645281095518257|         594.30|         2957|          0|Best Auto, 795 Al...|92be356b-339d-4c4...|         576.47|           00|\n",
      "|20ffbbe6-9597-4eb...|2020-12-29 14:09:...|0100|4181883717407438|         656.50|         3736|          0|Four Seasons Auto...|                null|           null|         null|\n",
      "|684d32b9-c9d0-499...|2020-12-29 14:09:...|0110|4181883717407438|         656.50|         3736|          0|Four Seasons Auto...|20ffbbe6-9597-4eb...|         636.81|           08|\n",
      "|8fe04047-dd0c-46b...|2017-08-07 07:50:...|0100|4665137692039550|         199.30|         7634|          0|Sun Shine Hardwar...|                null|           null|         null|\n",
      "|0c843839-728d-43c...|2017-08-07 07:51:...|0110|4665137692039550|         199.30|         7634|          0|Sun Shine Hardwar...|8fe04047-dd0c-46b...|         193.32|           00|\n",
      "|cdad92c5-74a9-450...|2015-04-22 01:33:...|0100|4094149930780762|         193.20|         3130|         13|Super Dry cleaner...|                null|           null|         null|\n",
      "|f87246dd-8178-458...|2015-04-22 01:33:...|0110|4094149930780762|         193.20|         3130|         13|Super Dry cleaner...|cdad92c5-74a9-450...|         187.40|           00|\n",
      "|345d6dcb-aec3-4f9...|2018-04-19 15:04:...|0100|4191811070945710|         132.50|         1288|         90|Best Bakery, 668 ...|                null|           null|         null|\n",
      "+--------------------+--------------------+----+----------------+---------------+-------------+-----------+--------------------+--------------------+---------------+-------------+\n",
      "\n",
      "root\n",
      " |-- id: string (nullable = true)\n",
      " |-- timestamp: string (nullable = true)\n",
      " |-- mti: string (nullable = true)\n",
      " |-- card_number: string (nullable = true)\n",
      " |-- amount_customer: string (nullable = true)\n",
      " |-- merchant_type: string (nullable = true)\n",
      " |-- merchant_id: string (nullable = true)\n",
      " |-- merchant_address: string (nullable = true)\n",
      " |-- ref_id: string (nullable = true)\n",
      " |-- amount_merchant: string (nullable = true)\n",
      " |-- response_code: string (nullable = true)\n",
      "\n"
     ]
    }
   ],
   "source": [
    "df = spark.read.csv('../data/transactions/transactions-sample.csv', header=True, sep=\"|\")\n",
    "df.show()\n",
    "df.printSchema()"
   ]
  },
  {
   "cell_type": "markdown",
   "metadata": {},
   "source": [
    "## Read Data with Schema"
   ]
  },
  {
   "cell_type": "code",
   "execution_count": 3,
   "metadata": {},
   "outputs": [
    {
     "name": "stdout",
     "output_type": "stream",
     "text": [
      "+--------------------+--------------------+----+----------------+---------------+-------------+-----------+--------------------+--------------------+---------------+-------------+\n",
      "|                  id|           timestamp| mti|     card_number|amount_customer|merchant_type|merchant_id|    merchant_address|              ref_id|amount_merchant|response_code|\n",
      "+--------------------+--------------------+----+----------------+---------------+-------------+-----------+--------------------+--------------------+---------------+-------------+\n",
      "|59132a14-bdd2-4ab...|2016-08-16 10:22:...|0100|4869275837969573|          105.1|         2788|         63|Sun Shine Liquors...|                null|           null|         null|\n",
      "|90f04967-f739-439...|2016-08-16 10:22:...|0110|4869275837969573|          105.1|         2788|         63|Sun Shine Liquors...|59132a14-bdd2-4ab...|         101.95|           00|\n",
      "|dbdf1aa3-bf7e-465...|2018-05-06 04:19:...|0100|4196274028761630|          706.7|         2723|         63|First Restaurant,...|                null|           null|         null|\n",
      "|96239ab7-1c86-449...|2018-05-06 04:20:...|0110|4196274028761630|          706.7|         2723|         63|First Restaurant,...|dbdf1aa3-bf7e-465...|          685.5|           00|\n",
      "|42ef2838-d291-411...|2015-03-28 14:15:...|0100|4348736739803585|          288.4|         5529|          7|Best Bakery, 643 ...|                null|           null|         null|\n",
      "|615665fc-8852-42b...|2015-03-28 14:15:...|0110|4348736739803585|          288.4|         5529|          7|Best Bakery, 643 ...|42ef2838-d291-411...|         279.75|           00|\n",
      "|e3c320f8-e821-4c3...|2015-06-08 12:09:...|0100|4240286547631442|          867.4|         5691|         58|Awesome Liquors, ...|                null|           null|         null|\n",
      "|0eea772e-f038-489...|2015-06-08 12:09:...|0110|4240286547631442|          867.4|         5691|         58|Awesome Liquors, ...|e3c320f8-e821-4c3...|         841.38|           00|\n",
      "|1876fe75-aed1-4da...|2016-04-16 21:00:...|0100|4910254741612724|          659.8|         2349|          0|First Bakery, 539...|                null|           null|         null|\n",
      "|f6eec88c-1fd9-438...|2016-04-16 21:00:...|0110|4910254741612724|          659.8|         2349|          0|First Bakery, 539...|1876fe75-aed1-4da...|         640.01|           00|\n",
      "|92be356b-339d-4c4...|2015-09-28 02:00:...|0100|4645281095518257|          594.3|         2957|          0|Best Auto, 795 Al...|                null|           null|         null|\n",
      "|14013d92-d87c-419...|2015-09-28 02:00:...|0110|4645281095518257|          594.3|         2957|          0|Best Auto, 795 Al...|92be356b-339d-4c4...|         576.47|           00|\n",
      "|20ffbbe6-9597-4eb...|2020-12-29 14:09:...|0100|4181883717407438|          656.5|         3736|          0|Four Seasons Auto...|                null|           null|         null|\n",
      "|684d32b9-c9d0-499...|2020-12-29 14:09:...|0110|4181883717407438|          656.5|         3736|          0|Four Seasons Auto...|20ffbbe6-9597-4eb...|         636.81|           08|\n",
      "|8fe04047-dd0c-46b...|2017-08-07 07:50:...|0100|4665137692039550|          199.3|         7634|          0|Sun Shine Hardwar...|                null|           null|         null|\n",
      "|0c843839-728d-43c...|2017-08-07 07:51:...|0110|4665137692039550|          199.3|         7634|          0|Sun Shine Hardwar...|8fe04047-dd0c-46b...|         193.32|           00|\n",
      "|cdad92c5-74a9-450...|2015-04-22 01:33:...|0100|4094149930780762|          193.2|         3130|         13|Super Dry cleaner...|                null|           null|         null|\n",
      "|f87246dd-8178-458...|2015-04-22 01:33:...|0110|4094149930780762|          193.2|         3130|         13|Super Dry cleaner...|cdad92c5-74a9-450...|          187.4|           00|\n",
      "|345d6dcb-aec3-4f9...|2018-04-19 15:04:...|0100|4191811070945710|          132.5|         1288|         90|Best Bakery, 668 ...|                null|           null|         null|\n",
      "+--------------------+--------------------+----+----------------+---------------+-------------+-----------+--------------------+--------------------+---------------+-------------+\n",
      "\n",
      "root\n",
      " |-- id: string (nullable = true)\n",
      " |-- timestamp: string (nullable = true)\n",
      " |-- mti: string (nullable = true)\n",
      " |-- card_number: string (nullable = true)\n",
      " |-- amount_customer: float (nullable = true)\n",
      " |-- merchant_type: string (nullable = true)\n",
      " |-- merchant_id: string (nullable = true)\n",
      " |-- merchant_address: string (nullable = true)\n",
      " |-- ref_id: string (nullable = true)\n",
      " |-- amount_merchant: float (nullable = true)\n",
      " |-- response_code: string (nullable = true)\n",
      "\n"
     ]
    }
   ],
   "source": [
    "import pyspark\n",
    "from pyspark.sql.types import ArrayType, IntegerType, LongType, StringType, FloatType, TimestampType, StructType, StructField\n",
    "\n",
    "my_schema = StructType([\n",
    "                       StructField(\"id\", StringType(), True),\n",
    "                       StructField(\"timestamp\", StringType(), True),\n",
    "                       StructField(\"mti\", StringType(), True),\n",
    "                       StructField(\"card_number\", StringType(), True),\n",
    "                       StructField(\"amount_customer\", FloatType(), True),\n",
    "                       StructField(\"merchant_type\", StringType(), True),\n",
    "                       StructField(\"merchant_id\", StringType(), True),\n",
    "                       StructField(\"merchant_address\", StringType(), True),\n",
    "                       StructField(\"ref_id\", StringType(), True),\n",
    "                       StructField(\"amount_merchant\", FloatType(), True),\n",
    "                       StructField(\"response_code\", StringType(), True),\n",
    "                      ])\n",
    "\n",
    "\n",
    "df = spark.read.csv('../data/transactions/transactions-sample.csv', header=True, schema=my_schema, sep=\"|\")\n",
    "df.show()\n",
    "df.printSchema()"
   ]
  },
  {
   "cell_type": "markdown",
   "metadata": {},
   "source": [
    "## Very Simple SQL Query\n",
    "\n",
    "Let's find the average amount spent on purchases"
   ]
  },
  {
   "cell_type": "code",
   "execution_count": 4,
   "metadata": {},
   "outputs": [],
   "source": [
    "# first register the dataframe as a temp table\n",
    "\n",
    "df.createOrReplaceTempView(\"transactions\")"
   ]
  },
  {
   "cell_type": "code",
   "execution_count": 5,
   "metadata": {},
   "outputs": [
    {
     "name": "stdout",
     "output_type": "stream",
     "text": [
      "+--------------------+--------------------+----+----------------+---------------+-------------+-----------+--------------------+--------------------+---------------+-------------+\n",
      "|                  id|           timestamp| mti|     card_number|amount_customer|merchant_type|merchant_id|    merchant_address|              ref_id|amount_merchant|response_code|\n",
      "+--------------------+--------------------+----+----------------+---------------+-------------+-----------+--------------------+--------------------+---------------+-------------+\n",
      "|59132a14-bdd2-4ab...|2016-08-16 10:22:...|0100|4869275837969573|          105.1|         2788|         63|Sun Shine Liquors...|                null|           null|         null|\n",
      "|90f04967-f739-439...|2016-08-16 10:22:...|0110|4869275837969573|          105.1|         2788|         63|Sun Shine Liquors...|59132a14-bdd2-4ab...|         101.95|           00|\n",
      "|dbdf1aa3-bf7e-465...|2018-05-06 04:19:...|0100|4196274028761630|          706.7|         2723|         63|First Restaurant,...|                null|           null|         null|\n",
      "|96239ab7-1c86-449...|2018-05-06 04:20:...|0110|4196274028761630|          706.7|         2723|         63|First Restaurant,...|dbdf1aa3-bf7e-465...|          685.5|           00|\n",
      "|42ef2838-d291-411...|2015-03-28 14:15:...|0100|4348736739803585|          288.4|         5529|          7|Best Bakery, 643 ...|                null|           null|         null|\n",
      "|615665fc-8852-42b...|2015-03-28 14:15:...|0110|4348736739803585|          288.4|         5529|          7|Best Bakery, 643 ...|42ef2838-d291-411...|         279.75|           00|\n",
      "|e3c320f8-e821-4c3...|2015-06-08 12:09:...|0100|4240286547631442|          867.4|         5691|         58|Awesome Liquors, ...|                null|           null|         null|\n",
      "|0eea772e-f038-489...|2015-06-08 12:09:...|0110|4240286547631442|          867.4|         5691|         58|Awesome Liquors, ...|e3c320f8-e821-4c3...|         841.38|           00|\n",
      "|1876fe75-aed1-4da...|2016-04-16 21:00:...|0100|4910254741612724|          659.8|         2349|          0|First Bakery, 539...|                null|           null|         null|\n",
      "|f6eec88c-1fd9-438...|2016-04-16 21:00:...|0110|4910254741612724|          659.8|         2349|          0|First Bakery, 539...|1876fe75-aed1-4da...|         640.01|           00|\n",
      "+--------------------+--------------------+----+----------------+---------------+-------------+-----------+--------------------+--------------------+---------------+-------------+\n",
      "only showing top 10 rows\n",
      "\n"
     ]
    }
   ],
   "source": [
    "# let's try a simple select query\n",
    "\n",
    "spark.sql(\"select * from transactions\").show(10)"
   ]
  },
  {
   "cell_type": "markdown",
   "metadata": {},
   "source": [
    "## Another SQL query\n"
   ]
  },
  {
   "cell_type": "markdown",
   "metadata": {},
   "source": [
    "### Average charge in credit card"
   ]
  },
  {
   "cell_type": "code",
   "execution_count": 6,
   "metadata": {},
   "outputs": [
    {
     "name": "stdout",
     "output_type": "stream",
     "text": [
      "+--------------------+\n",
      "|avg(amount_customer)|\n",
      "+--------------------+\n",
      "|  456.52105311343547|\n",
      "+--------------------+\n",
      "\n"
     ]
    }
   ],
   "source": [
    "# find average charge\n",
    "\n",
    "spark.sql (\"select AVG(amount_customer) from transactions\").show()"
   ]
  },
  {
   "cell_type": "markdown",
   "metadata": {},
   "source": [
    "### Summary by merchant_id"
   ]
  },
  {
   "cell_type": "code",
   "execution_count": 7,
   "metadata": {},
   "outputs": [
    {
     "name": "stdout",
     "output_type": "stream",
     "text": [
      "+-----------+-----+\n",
      "|merchant_id|total|\n",
      "+-----------+-----+\n",
      "|          7|    2|\n",
      "|          0|    8|\n",
      "|         90|    1|\n",
      "|         58|    2|\n",
      "|         63|    4|\n",
      "|         13|    2|\n",
      "+-----------+-----+\n",
      "\n"
     ]
    }
   ],
   "source": [
    "# do a summary on merchant_id\n",
    "\n",
    "spark.sql (\"select merchant_id, COUNT(*) as total from transactions group by merchant_id\").show()"
   ]
  },
  {
   "cell_type": "markdown",
   "metadata": {},
   "source": [
    "## Querying Large Scale Data\n",
    "\n",
    "Here we queried sample data - that is very small in size.\n",
    "\n",
    "In next lab, we will query large datasets.\n",
    "\n",
    "For large datasets, it is recommended to run the command line clients.\n",
    "\n",
    "Look at file : [sql-2-query-large-data.py](sql-2-query-large-data.py)"
   ]
  },
  {
   "cell_type": "code",
   "execution_count": null,
   "metadata": {},
   "outputs": [],
   "source": []
  }
 ],
 "metadata": {
  "kernelspec": {
   "display_name": "pyspark",
   "language": "python",
   "name": "pyspark"
  },
  "language_info": {
   "codemirror_mode": {
    "name": "ipython",
    "version": 3
   },
   "file_extension": ".py",
   "mimetype": "text/x-python",
   "name": "python",
   "nbconvert_exporter": "python",
   "pygments_lexer": "ipython3",
   "version": "3.8.2"
  }
 },
 "nbformat": 4,
 "nbformat_minor": 4
}
