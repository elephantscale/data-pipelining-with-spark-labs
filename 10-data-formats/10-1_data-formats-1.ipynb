{
 "cells": [
  {
   "cell_type": "markdown",
   "id": "f529f9de-d9a2-46ea-9671-3841a803d9a0",
   "metadata": {},
   "source": [
    "# Data format lab\n",
    "\n",
    "## Overview \n",
    "\n",
    "We will convert data formats using Spark.\n",
    "\n",
    "We will execute this lab on local mode first.  And then on Hadoop cluster.\n",
    "\n",
    "## Duration \n",
    "\n",
    "15 minutes\n",
    "\n",
    "## Step-1: Verify data\n",
    "\n",
    "We will use transaction data, this data is located in `data/transactions/transactions-sample.csv`.  Or you can use generated data as well\n",
    "\n",
    "## Step-2: Init Spark"
   ]
  },
  {
   "cell_type": "code",
   "execution_count": null,
   "id": "31664df5-0a9d-4bbb-b289-57712b036bd0",
   "metadata": {},
   "outputs": [],
   "source": [
    "try:\n",
    "    spark\n",
    "except NameError:\n",
    "    import findspark\n",
    "    findspark.init()  # uses SPARK_HOME\n",
    "    print(\"Spark found in : \", findspark.find())\n",
    "\n",
    "    import pyspark\n",
    "    from pyspark import SparkConf\n",
    "    from pyspark.sql import SparkSession\n",
    "\n",
    "    # use a unique tmep dir for warehouse dir, so we can run multiple spark sessions in one dir\n",
    "    import tempfile\n",
    "    tmpdir = tempfile.TemporaryDirectory()\n",
    "\n",
    "    config = ( SparkConf()\n",
    "             .setAppName(\"TestApp\")\n",
    "             .setMaster(\"local[*]\")\n",
    "             .set('executor.memory', '2g')\n",
    "             .set('spark.sql.warehouse.dir', tmpdir.name)\n",
    "             .set(\"some_property\", \"some_value\") # another example\n",
    "             )\n",
    "\n",
    "    spark = SparkSession.builder.config(conf=config).getOrCreate()\n",
    "    sc = spark.sparkContext\n",
    "\n",
    "print('Spark UI running on port ' + spark.sparkContext.uiWebUrl.split(':')[2])"
   ]
  },
  {
   "cell_type": "markdown",
   "id": "4680ca05-44f5-4702-825a-9bdc10403a1d",
   "metadata": {},
   "source": [
    "## Step-3: Load CSV Data"
   ]
  },
  {
   "cell_type": "code",
   "execution_count": null,
   "id": "a6f17a01-53b8-47ba-8f34-b9643dad1d92",
   "metadata": {},
   "outputs": [],
   "source": [
    "## Inspect the data\n",
    "\n",
    "! cat \"../data/transactions/transactions-sample.csv\"  | head -n 5"
   ]
  },
  {
   "cell_type": "code",
   "execution_count": null,
   "id": "c085adce-0a0c-4c3c-b067-0e4d8c151786",
   "metadata": {},
   "outputs": [],
   "source": [
    "# Load data in Spark\n",
    "\n",
    "df_csv = spark.read.csv(\"../data/transactions/transactions-sample.csv\", header=True, inferSchema=True)\n",
    "df_csv.printSchema()"
   ]
  },
  {
   "cell_type": "markdown",
   "id": "f6965ecc-8626-4bb6-9848-4766882a8293",
   "metadata": {},
   "source": [
    "## Step-4: Save data in JSON format"
   ]
  },
  {
   "cell_type": "code",
   "execution_count": null,
   "id": "8dc5bfb8-d9b3-4b50-b684-f3132d3f9759",
   "metadata": {},
   "outputs": [],
   "source": [
    "df_csv.write.json(\"../data/transactions/json\", \"overwrite\")"
   ]
  },
  {
   "cell_type": "code",
   "execution_count": null,
   "id": "b46b1838-bee6-4b7f-acf1-26d4cef9b4f4",
   "metadata": {},
   "outputs": [],
   "source": [
    "## inspect the data\n",
    "\n",
    "! ls -l ../data/transactions/json/\n"
   ]
  },
  {
   "cell_type": "code",
   "execution_count": null,
   "id": "121d6579-c937-4929-9902-e84f569ced1d",
   "metadata": {},
   "outputs": [],
   "source": [
    "! cat ../data/transactions/json/* | head -n 5"
   ]
  },
  {
   "cell_type": "code",
   "execution_count": null,
   "id": "792b6399-31ea-41f3-8684-bf8a1c36f4b4",
   "metadata": {},
   "outputs": [],
   "source": [
    "## Read json data back \n",
    "\n",
    "df_json = spark.read.json ('../data/transactions/json/')\n",
    "df_json.show(5, truncate=True)"
   ]
  },
  {
   "cell_type": "markdown",
   "id": "d4619193-612b-4a68-b411-f55a9bbcb21e",
   "metadata": {},
   "source": [
    "## Step-5: Save data in Parquet format"
   ]
  },
  {
   "cell_type": "code",
   "execution_count": null,
   "id": "af883576-5de7-451d-b158-517e8257205d",
   "metadata": {},
   "outputs": [],
   "source": [
    "df_csv.write.parquet(\"../data/transactions/parquet\", \"overwrite\")"
   ]
  },
  {
   "cell_type": "code",
   "execution_count": null,
   "id": "3d91cac8-5182-487f-9226-b42513a18e85",
   "metadata": {},
   "outputs": [],
   "source": [
    "! ls -l ../data/transactions/parquet/"
   ]
  },
  {
   "cell_type": "code",
   "execution_count": null,
   "id": "f25f5f4d-db92-43ac-8642-b808cbc75d01",
   "metadata": {},
   "outputs": [],
   "source": [
    "## parquet files are binary, you can inspect them using parquet-tools"
   ]
  },
  {
   "cell_type": "code",
   "execution_count": null,
   "id": "c7eae0cc-b1fa-4c80-966d-a31d3f694da3",
   "metadata": {},
   "outputs": [],
   "source": [
    "## read back parquet files\n",
    "\n",
    "df_parquet = spark.read.parquet ('../data/transactions/parquet/')\n",
    "df_parquet.show(5)"
   ]
  },
  {
   "cell_type": "code",
   "execution_count": null,
   "id": "1ea848a4-1cb4-4461-a65a-bb8bee17d74c",
   "metadata": {},
   "outputs": [],
   "source": []
  }
 ],
 "metadata": {
  "kernelspec": {
   "display_name": "pyspark",
   "language": "python",
   "name": "pyspark"
  },
  "language_info": {
   "codemirror_mode": {
    "name": "ipython",
    "version": 3
   },
   "file_extension": ".py",
   "mimetype": "text/x-python",
   "name": "python",
   "nbconvert_exporter": "python",
   "pygments_lexer": "ipython3",
   "version": "3.8.2"
  }
 },
 "nbformat": 4,
 "nbformat_minor": 5
}
